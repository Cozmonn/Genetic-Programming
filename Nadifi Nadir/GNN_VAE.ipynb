{
 "cells": [
  {
   "cell_type": "code",
   "execution_count": 1,
   "id": "86196409",
   "metadata": {},
   "outputs": [],
   "source": [
    "import re\n",
    "import torch\n",
    "import torch.nn as nn\n",
    "import networkx as nx\n",
    "import torch.optim as optim\n",
    "import matplotlib.pyplot as plt\n",
    "import torch.nn.functional as F\n",
    "from torch_geometric.data import Data\n",
    "from torch_geometric.nn import GCNConv\n",
    "from torch_geometric.utils import add_self_loops\n",
    "from sklearn.model_selection import train_test_split"
   ]
  },
  {
   "cell_type": "code",
   "execution_count": 2,
   "id": "b612d5f9",
   "metadata": {},
   "outputs": [
    {
     "name": "stdout",
     "output_type": "stream",
     "text": [
      "Original dataset size: 1000000\n",
      "Unique dataset size: 606861\n"
     ]
    }
   ],
   "source": [
    "# Read the dataset from file\n",
    "with open(\"all_individual_data.txt\", 'r') as file:\n",
    "    all_dataset = [line.strip() for line in file]\n",
    "\n",
    "# Remove duplicates\n",
    "unique_trees = list(set(all_dataset))\n",
    "\n",
    "# Print dataset sizes\n",
    "print(f\"Original dataset size: {len(all_dataset)}\")\n",
    "print(f\"Unique dataset size: {len(unique_trees)}\")"
   ]
  },
  {
   "cell_type": "code",
   "execution_count": 3,
   "id": "9be57355",
   "metadata": {},
   "outputs": [
    {
     "name": "stdout",
     "output_type": "stream",
     "text": [
      "dataset size: 193568\n",
      "['whileLoop(prog2(whileLoop(movGteA), prog2(readArrayD, readArrayD)))']\n"
     ]
    }
   ],
   "source": [
    "# 3. Define the depth computation function\n",
    "def compute_tree_depth(tree_expression):\n",
    "    max_depth = 0\n",
    "    current_depth = 0\n",
    "    for char in tree_expression:\n",
    "        if char == '(':\n",
    "            current_depth += 1\n",
    "            if current_depth > max_depth:\n",
    "                max_depth = current_depth\n",
    "        elif char == ')':\n",
    "            if current_depth > 0:\n",
    "                current_depth -= 1\n",
    "            else:\n",
    "                print(\"Warning: Unbalanced parentheses detected.\")\n",
    "    if current_depth != 0:\n",
    "        print(\"Warning: Unbalanced parentheses detected at the end of the expression.\")\n",
    "    return max_depth\n",
    "\n",
    "# 4. Compute depths\n",
    "tree_depths = [compute_tree_depth(tree) for tree in unique_trees]\n",
    "\n",
    "# 5. Define depth thresholds\n",
    "max_depth = 6\n",
    "\n",
    "# 6. Filter trees based on depth\n",
    "filtered_trees = [\n",
    "    tree for tree, depth in zip(unique_trees, tree_depths) if depth < max_depth\n",
    "]\n",
    "# For this example, we'll use depth under 6\n",
    "unique_trees = filtered_trees\n",
    "\n",
    "print(f\"dataset size: {len(unique_trees)}\")\n",
    "print(unique_trees[:1])"
   ]
  },
  {
   "cell_type": "code",
   "execution_count": 4,
   "id": "1726415b",
   "metadata": {},
   "outputs": [],
   "source": [
    "def parse_raw_tree(expression, global_label_map=None):\n",
    "    \"\"\"\n",
    "    Parse a raw tree expression into:\n",
    "        - nodes: a list of integer labels for each node\n",
    "        - edges: a list of (parent, child) tuples\n",
    "        - updated_label_map: dict mapping string labels to integer IDs (shared across calls)\n",
    "\n",
    "    Parameters:\n",
    "        expression (str): Tree expression to parse.\n",
    "        global_label_map (dict, optional): A global label map to maintain consistent encoding across trees.\n",
    "\n",
    "    Returns:\n",
    "        nodes (list): List of node label IDs.\n",
    "        edges (list): List of (parent, child) edges.\n",
    "        updated_label_map (dict): Updated label mapping after processing the tree.\n",
    "    \"\"\"\n",
    "\n",
    "    # Use the provided global label map or create a new one\n",
    "    if global_label_map is None:\n",
    "        global_label_map = {}\n",
    "        label_counter = 0\n",
    "    else:\n",
    "        label_counter = max(global_label_map.values(), default=-1) + 1\n",
    "\n",
    "    stack = []  # Track parent nodes\n",
    "    nodes = []  # Node labels (integers)\n",
    "    edges = []  # Parent-child edges\n",
    "\n",
    "    # Tokenize, allowing letters + digits\n",
    "    tokens = re.findall(r'[a-zA-Z0-9]+|\\(|\\)|,', expression)\n",
    "\n",
    "    last_created_node_id = None\n",
    "\n",
    "    for token in tokens:\n",
    "        if token not in ('(', ')', ','):\n",
    "            # Handle node label\n",
    "            if token not in global_label_map:\n",
    "                global_label_map[token] = label_counter\n",
    "                label_counter += 1\n",
    "            current_node_label = global_label_map[token]\n",
    "\n",
    "            # Create a new node with ID = len(nodes)\n",
    "            node_id = len(nodes)\n",
    "            nodes.append(current_node_label)\n",
    "\n",
    "            # Attach to parent if available\n",
    "            if stack:\n",
    "                parent_id = stack[-1]\n",
    "                edges.append((parent_id, node_id))\n",
    "\n",
    "            last_created_node_id = node_id  # Remember this node\n",
    "\n",
    "        elif token == '(':\n",
    "            if last_created_node_id is not None:\n",
    "                stack.append(last_created_node_id)  # Push parent node\n",
    "                last_created_node_id = None  # Reset\n",
    "\n",
    "        elif token == ')':\n",
    "            if stack:\n",
    "                stack.pop()  # Pop parent\n",
    "\n",
    "        # No action needed for ',' since the next node attaches to stack[-1]\n",
    "\n",
    "    return nodes, edges, global_label_map"
   ]
  },
  {
   "cell_type": "code",
   "execution_count": 5,
   "id": "fcb221cb",
   "metadata": {},
   "outputs": [],
   "source": [
    "def prepare_dataset(raw_trees):\n",
    "    \"\"\"\n",
    "    raw_trees: list of strings (each a tree expression).\n",
    "    Returns: a list of structured trees and a global label_map.\n",
    "    \"\"\"\n",
    "    global_label_map = {}\n",
    "    global_counter = 0\n",
    "\n",
    "    dataset = []\n",
    "    for expr in raw_trees:\n",
    "        # parse\n",
    "        nodes, edges, local_map = parse_raw_tree(expr)\n",
    "\n",
    "        # unify local_map with global_label_map\n",
    "        # or if you accept local indexing, you can keep local\n",
    "        # but let's do global so we handle all tokens consistently.\n",
    "        new_nodes = []\n",
    "        for node_label in nodes:\n",
    "            # node_label is from local map\n",
    "            # unify with global map\n",
    "            # e.g., you'd store the string token, not an int\n",
    "            # so parse_raw_tree might need to store string tokens instead\n",
    "            # Then here you map them to global integers\n",
    "            pass\n",
    "\n",
    "        # build children_dict\n",
    "        children_dict = {i: [] for i in range(len(nodes))}\n",
    "        for (p, c) in edges:\n",
    "            children_dict[p].append(c)\n",
    "\n",
    "        # find root\n",
    "        all_children = set(c for (_, c) in edges)\n",
    "        all_nodes = set(range(len(nodes)))\n",
    "        root_candidates = all_nodes - all_children\n",
    "        root_id = min(root_candidates) if root_candidates else 0\n",
    "\n",
    "        # store\n",
    "        tree_struct = {\n",
    "          \"root_id\": root_id,\n",
    "          \"children_dict\": children_dict,\n",
    "          \"labels\": new_nodes,  # or if you used local approach, 'nodes'\n",
    "          \"num_nodes\": len(nodes)\n",
    "        }\n",
    "        dataset.append(tree_struct)\n",
    "\n",
    "    return dataset, global_label_map"
   ]
  },
  {
   "cell_type": "code",
   "execution_count": 6,
   "id": "b331ce7d",
   "metadata": {},
   "outputs": [],
   "source": [
    "global_label_map = {}  # Shared label map for consistent labels\n",
    "\n",
    "parsed_trees = []\n",
    "for expr in unique_trees:\n",
    "    nodes, edges, global_label_map = parse_raw_tree(expr, global_label_map)\n",
    "    parsed_trees.append({\"expression\": expr, \"nodes\": nodes, \"edges\": edges})"
   ]
  },
  {
   "cell_type": "code",
   "execution_count": 7,
   "id": "70eabd39",
   "metadata": {},
   "outputs": [
    {
     "data": {
      "text/plain": [
       "[{'expression': 'whileLoop(prog2(whileLoop(movGteA), prog2(readArrayD, readArrayD)))',\n",
       "  'nodes': [0, 1, 0, 2, 1, 3, 3],\n",
       "  'edges': [(0, 1), (1, 2), (2, 3), (1, 4), (4, 5), (4, 6)]},\n",
       " {'expression': 'prog2(prog2(prog2(prog2(readArrayD, incI), prog2(movBmaxIter, movGteA)), movBmaxIter), whileLoop(prog2(incI, incI)))',\n",
       "  'nodes': [1, 1, 1, 1, 3, 4, 1, 5, 2, 5, 0, 1, 4, 4],\n",
       "  'edges': [(0, 1),\n",
       "   (1, 2),\n",
       "   (2, 3),\n",
       "   (3, 4),\n",
       "   (3, 5),\n",
       "   (2, 6),\n",
       "   (6, 7),\n",
       "   (6, 8),\n",
       "   (1, 9),\n",
       "   (0, 10),\n",
       "   (10, 11),\n",
       "   (11, 12),\n",
       "   (11, 13)]},\n",
       " {'expression': 'prog2(movBmaxIter, prog2(prog2(whileLoop(movBmaxIter), incI), whileLoop(whileLoop(whileLoop(swapAD)))))',\n",
       "  'nodes': [1, 5, 1, 1, 0, 5, 4, 0, 0, 0, 6],\n",
       "  'edges': [(0, 1),\n",
       "   (0, 2),\n",
       "   (2, 3),\n",
       "   (3, 4),\n",
       "   (4, 5),\n",
       "   (3, 6),\n",
       "   (2, 7),\n",
       "   (7, 8),\n",
       "   (8, 9),\n",
       "   (9, 10)]},\n",
       " {'expression': 'prog2(prog2(movBmaxIter, whileLoop(prog2(prog2(readArrayD, incI), movGteA))), whileLoop(whileLoop(prog2(prog2(readArrayD, incI), movGteA))))',\n",
       "  'nodes': [1, 1, 5, 0, 1, 1, 3, 4, 2, 0, 0, 1, 1, 3, 4, 2],\n",
       "  'edges': [(0, 1),\n",
       "   (1, 2),\n",
       "   (1, 3),\n",
       "   (3, 4),\n",
       "   (4, 5),\n",
       "   (5, 6),\n",
       "   (5, 7),\n",
       "   (4, 8),\n",
       "   (0, 9),\n",
       "   (9, 10),\n",
       "   (10, 11),\n",
       "   (11, 12),\n",
       "   (12, 13),\n",
       "   (12, 14),\n",
       "   (11, 15)]},\n",
       " {'expression': 'prog2(prog2(prog2(prog2(readArrayD, swapAD), swapAD), prog2(movBmaxIter, readArrayD)), prog2(whileLoop(prog2(movBmaxIter, swapAD)), whileLoop(whileLoop(readArrayD))))',\n",
       "  'nodes': [1, 1, 1, 1, 3, 6, 6, 1, 5, 3, 1, 0, 1, 5, 6, 0, 0, 3],\n",
       "  'edges': [(0, 1),\n",
       "   (1, 2),\n",
       "   (2, 3),\n",
       "   (3, 4),\n",
       "   (3, 5),\n",
       "   (2, 6),\n",
       "   (1, 7),\n",
       "   (7, 8),\n",
       "   (7, 9),\n",
       "   (0, 10),\n",
       "   (10, 11),\n",
       "   (11, 12),\n",
       "   (12, 13),\n",
       "   (12, 14),\n",
       "   (10, 15),\n",
       "   (15, 16),\n",
       "   (16, 17)]}]"
      ]
     },
     "execution_count": 7,
     "metadata": {},
     "output_type": "execute_result"
    }
   ],
   "source": [
    "parsed_trees[:5]"
   ]
  },
  {
   "cell_type": "code",
   "execution_count": 8,
   "id": "3a406241",
   "metadata": {},
   "outputs": [
    {
     "name": "stdout",
     "output_type": "stream",
     "text": [
      "{'expression': 'whileLoop(prog2(whileLoop(movGteA), prog2(readArrayD, readArrayD)))', 'nodes': [0, 1, 0, 2, 1, 3, 3], 'edges': [(0, 1), (1, 2), (2, 3), (1, 4), (4, 5), (4, 6)]}\n",
      "Data(x=[7, 1], edge_index=[2, 6])\n"
     ]
    }
   ],
   "source": [
    "def convert_to_pyg(data_list):\n",
    "    \"\"\"\n",
    "    Converts a list of trees (dict format) into a list of PyTorch Geometric graph objects.\n",
    "    \"\"\"\n",
    "    pyg_graphs = []\n",
    "\n",
    "    for data in data_list:\n",
    "        nodes = torch.tensor(data['nodes'], dtype=torch.float).view(-1, 1)  # Node features\n",
    "        edges = torch.tensor(data['edges'], dtype=torch.long).t().contiguous()  # Edge index\n",
    "\n",
    "        graph = Data(x=nodes, edge_index=edges)\n",
    "        pyg_graphs.append(graph)\n",
    "\n",
    "    return pyg_graphs\n",
    "\n",
    "\n",
    "pyg_graphs = convert_to_pyg(parsed_trees)\n",
    "print(parsed_trees[0])\n",
    "print(pyg_graphs[0])  # Check the first graph"
   ]
  },
  {
   "cell_type": "code",
   "execution_count": 9,
   "id": "d5405987",
   "metadata": {},
   "outputs": [],
   "source": [
    "def add_self_loops_if_needed(graph):\n",
    "    \"\"\"\n",
    "    Adds self-loops to graphs with no edges.\n",
    "    \"\"\"\n",
    "    if graph.edge_index.numel() == 0:  # No edges in the graph\n",
    "        num_nodes = graph.x.shape[0]  # Get number of nodes\n",
    "        edge_index = torch.arange(num_nodes, dtype=torch.long).repeat(2, 1)  # Create self-loops\n",
    "        graph.edge_index = edge_index\n",
    "    return graph\n",
    "\n",
    "def fix_dataset(pyg_graphs):\n",
    "    \"\"\"\n",
    "    Fixes a dataset of PyG graphs by adding self-loops to graphs with no edges.\n",
    "    \"\"\"\n",
    "    fixed_graphs = [add_self_loops_if_needed(graph) for graph in pyg_graphs]\n",
    "    return fixed_graphs"
   ]
  },
  {
   "cell_type": "code",
   "execution_count": 10,
   "id": "cf6a4e3d",
   "metadata": {},
   "outputs": [
    {
     "name": "stdout",
     "output_type": "stream",
     "text": [
      "Data(x=[7, 1], edge_index=[2, 6])\n"
     ]
    }
   ],
   "source": [
    "pyg_graphs = fix_dataset(pyg_graphs)\n",
    "print(pyg_graphs[0])"
   ]
  },
  {
   "cell_type": "code",
   "execution_count": 11,
   "id": "138d009d",
   "metadata": {},
   "outputs": [
    {
     "name": "stdout",
     "output_type": "stream",
     "text": [
      "Training set size: 154854\n",
      "Validation set size: 38714\n"
     ]
    }
   ],
   "source": [
    "# Split into training and validation sets (80% train, 20% validation)\n",
    "train_set, val_set = train_test_split(pyg_graphs, test_size=0.2, random_state=42)\n",
    "\n",
    "print(f\"Training set size: {len(train_set)}\")\n",
    "print(f\"Validation set size: {len(val_set)}\")"
   ]
  },
  {
   "cell_type": "code",
   "execution_count": 12,
   "id": "7ad39cea",
   "metadata": {},
   "outputs": [],
   "source": [
    "class GNNEncoder(torch.nn.Module):\n",
    "    def __init__(self, in_feats, hidden_size, latent_dim):\n",
    "        super(GNNEncoder, self).__init__()\n",
    "        self.conv1 = GCNConv(in_feats, hidden_size)\n",
    "        self.conv2 = GCNConv(hidden_size, latent_dim)\n",
    "        self.bn1 = torch.nn.BatchNorm1d(hidden_size)\n",
    "        self.dropout = nn.Dropout(0.2)  # 20% dropout\n",
    "\n",
    "    def forward(self, x, edge_index):\n",
    "        x = torch.relu(self.conv1(x, edge_index))\n",
    "        x = self.dropout(x)  # Applying dropout\n",
    "        x = self.conv2(x, edge_index)\n",
    "        return x  # Latent space representation\n",
    "\n",
    "class MLPDecoder(torch.nn.Module):\n",
    "    def __init__(self, latent_dim, output_dim):\n",
    "        super(MLPDecoder, self).__init__()\n",
    "        self.fc1 = torch.nn.Linear(latent_dim, 32)\n",
    "        self.fc2 = torch.nn.Linear(32, output_dim)\n",
    "\n",
    "    def forward(self, x):\n",
    "        x = torch.relu(self.fc1(x))\n",
    "        return self.fc2(x)  # Reconstructed node features\n",
    "\n",
    "class Tree2TreeAutoencoder(torch.nn.Module):\n",
    "    def __init__(self, in_feats, hidden_size, latent_dim, output_dim):\n",
    "        super(Tree2TreeAutoencoder, self).__init__()\n",
    "        self.encoder = GNNEncoder(in_feats, hidden_size, latent_dim)\n",
    "        self.decoder = MLPDecoder(latent_dim, output_dim)\n",
    "\n",
    "    def forward(self, x, edge_index):\n",
    "        latent = self.encoder(x, edge_index)\n",
    "        reconstructed = self.decoder(latent)\n",
    "        return reconstructed"
   ]
  },
  {
   "cell_type": "code",
   "execution_count": 13,
   "id": "63aae3ae",
   "metadata": {},
   "outputs": [
    {
     "name": "stdout",
     "output_type": "stream",
     "text": [
      "Tree2TreeAutoencoder(\n",
      "  (encoder): GNNEncoder(\n",
      "    (conv1): GCNConv(1, 32)\n",
      "    (conv2): GCNConv(32, 16)\n",
      "    (bn1): BatchNorm1d(32, eps=1e-05, momentum=0.1, affine=True, track_running_stats=True)\n",
      "    (dropout): Dropout(p=0.2, inplace=False)\n",
      "  )\n",
      "  (decoder): MLPDecoder(\n",
      "    (fc1): Linear(in_features=16, out_features=32, bias=True)\n",
      "    (fc2): Linear(in_features=32, out_features=1, bias=True)\n",
      "  )\n",
      ")\n"
     ]
    }
   ],
   "source": [
    "model = Tree2TreeAutoencoder(in_feats=1, hidden_size=32, latent_dim=16, output_dim=1)\n",
    "print(model)"
   ]
  },
  {
   "cell_type": "code",
   "execution_count": 14,
   "id": "8a286b74",
   "metadata": {},
   "outputs": [],
   "source": [
    "def compute_accuracy(original, reconstructed):\n",
    "    \"\"\"\n",
    "    Computes reconstruction accuracy as 100 - Mean Absolute Error (MAE) percentage.\n",
    "    \"\"\"\n",
    "    mae = torch.abs(original - reconstructed).mean().item()  # Mean Absolute Error\n",
    "    scale = torch.abs(original).mean().item()  # Scale by the original mean\n",
    "\n",
    "    if scale == 0:  # Prevent division by zero\n",
    "        return 100.0  # If original is all zeros, assume perfect reconstruction\n",
    "\n",
    "    accuracy = 100 - (mae / scale * 100)  # Lower MAE means higher accuracy\n",
    "    return max(0, accuracy)  # Ensure accuracy is never negative"
   ]
  },
  {
   "cell_type": "code",
   "execution_count": 15,
   "id": "bd2cee9a",
   "metadata": {},
   "outputs": [
    {
     "name": "stdout",
     "output_type": "stream",
     "text": [
      "Training on: cpu\n",
      "Epoch 0, Avg Loss: 0.201231, Accuracy: 84.48%\n",
      "Epoch 10, Avg Loss: 0.184499, Accuracy: 85.14%\n",
      "Epoch 20, Avg Loss: 0.180336, Accuracy: 85.28%\n",
      "Epoch 30, Avg Loss: 0.178093, Accuracy: 85.28%\n",
      "Epoch 40, Avg Loss: 0.177360, Accuracy: 85.31%\n",
      "Epoch 50, Avg Loss: 0.178036, Accuracy: 85.31%\n",
      "Epoch 60, Avg Loss: 0.176931, Accuracy: 85.33%\n",
      "Epoch 70, Avg Loss: 0.178842, Accuracy: 85.33%\n",
      "Epoch 80, Avg Loss: 0.176679, Accuracy: 85.34%\n",
      "Epoch 90, Avg Loss: 0.177738, Accuracy: 85.35%\n",
      "Early stopping triggered at epoch 98\n",
      "Training complete!\n"
     ]
    }
   ],
   "source": [
    "def train_autoencoder(graphs, num_epochs=100, patience=10, lr=0.002):\n",
    "    \"\"\"\n",
    "    Trains the Tree2Tree Autoencoder with:\n",
    "    - Learning Rate Scheduler\n",
    "    - Dropout Regularization\n",
    "    - Early Stopping\n",
    "    - GPU Acceleration\n",
    "    - Accuracy Calculation (MAPE)\n",
    "    \"\"\"\n",
    "    device = torch.device(\"cuda\" if torch.cuda.is_available() else \"cpu\")\n",
    "    print(f\"Training on: {device}\")\n",
    "\n",
    "    # Move model to GPU\n",
    "    vae = Tree2TreeAutoencoder(in_feats=1, hidden_size=32, latent_dim=16, output_dim=1).to(device)\n",
    "    optimizer = torch.optim.Adam(vae.parameters(), lr=lr)\n",
    "    loss_fn = nn.MSELoss()\n",
    "\n",
    "    # Learning rate scheduler (reduce LR every 20 epochs)\n",
    "    scheduler = torch.optim.lr_scheduler.StepLR(optimizer, step_size=20, gamma=0.5)\n",
    "\n",
    "    # Early Stopping\n",
    "    best_loss = float('inf')\n",
    "    wait = 0\n",
    "\n",
    "    for epoch in range(num_epochs):\n",
    "        total_loss = 0\n",
    "        total_accuracy = 0\n",
    "\n",
    "        for graph in graphs:\n",
    "            optimizer.zero_grad()\n",
    "\n",
    "            # Move graph to GPU\n",
    "            graph = graph.to(device)\n",
    "\n",
    "            # Forward pass\n",
    "            reconstructed = vae(graph.x, graph.edge_index)\n",
    "            loss = loss_fn(reconstructed, graph.x)\n",
    "\n",
    "            # Backward pass\n",
    "            loss.backward()\n",
    "            optimizer.step()\n",
    "            \n",
    "            total_loss += loss.item()\n",
    "\n",
    "            # Compute accuracy (MAPE)\n",
    "            accuracy = compute_accuracy(graph.x, reconstructed)\n",
    "            total_accuracy += accuracy\n",
    "\n",
    "        # Adjust learning rate\n",
    "        scheduler.step()\n",
    "\n",
    "        avg_loss = total_loss / len(graphs)\n",
    "        avg_accuracy = total_accuracy / len(graphs)\n",
    "\n",
    "        # Print loss and accuracy every 10 epochs\n",
    "        if epoch % 10 == 0:\n",
    "            print(f'Epoch {epoch}, Avg Loss: {avg_loss:.6f}, Accuracy: {avg_accuracy:.2f}%')\n",
    "\n",
    "        # Early stopping logic\n",
    "        if avg_loss < best_loss:\n",
    "            best_loss = avg_loss\n",
    "            wait = 0\n",
    "        else:\n",
    "            wait += 1\n",
    "\n",
    "        if wait >= patience:\n",
    "            print(f\"Early stopping triggered at epoch {epoch}\")\n",
    "            break\n",
    "\n",
    "    print(\"Training complete!\")\n",
    "    return vae\n",
    "\n",
    "trained_model = train_autoencoder(train_set)"
   ]
  },
  {
   "cell_type": "code",
   "execution_count": 16,
   "id": "70a8629e",
   "metadata": {},
   "outputs": [
    {
     "name": "stdout",
     "output_type": "stream",
     "text": [
      "Original Node Features:\n",
      " [[1.]\n",
      " [1.]\n",
      " [5.]\n",
      " [0.]\n",
      " [1.]\n",
      " [1.]\n",
      " [2.]\n",
      " [2.]\n",
      " [4.]\n",
      " [0.]\n",
      " [2.]]\n",
      "Reconstructed Node Features:\n",
      " [[0.76861656]\n",
      " [0.76861656]\n",
      " [4.571252  ]\n",
      " [0.76861656]\n",
      " [0.76861656]\n",
      " [0.76861656]\n",
      " [2.1644669 ]\n",
      " [2.1644669 ]\n",
      " [3.7689333 ]\n",
      " [0.76861656]\n",
      " [0.76861656]]\n"
     ]
    }
   ],
   "source": [
    "import torch\n",
    "\n",
    "def test_reconstruction(model, test_graph):\n",
    "    \"\"\"\n",
    "    Tests the trained model by passing a graph and comparing its reconstructed features.\n",
    "    \"\"\"\n",
    "    device = torch.device(\"cuda\" if torch.cuda.is_available() else \"cpu\")\n",
    "    model.to(device)\n",
    "    model.eval()  # Set model to evaluation mode\n",
    "\n",
    "    # Move test graph to GPU if available\n",
    "    test_graph = test_graph.to(device)\n",
    "\n",
    "    # Forward pass\n",
    "    with torch.no_grad():\n",
    "        reconstructed = model(test_graph.x, test_graph.edge_index)\n",
    "\n",
    "    # Compare original vs. reconstructed features\n",
    "    print(\"Original Node Features:\\n\", test_graph.x.cpu().numpy())\n",
    "    print(\"Reconstructed Node Features:\\n\", reconstructed.cpu().numpy())\n",
    "\n",
    "    return reconstructed\n",
    "\n",
    "# Select a test graph from dataset\n",
    "test_graph = pyg_graphs[7]  # Pick any graph\n",
    "\n",
    "# Test reconstruction\n",
    "reconstructed_output = test_reconstruction(trained_model, test_graph)"
   ]
  },
  {
   "cell_type": "code",
   "execution_count": 17,
   "id": "7a7eae36",
   "metadata": {},
   "outputs": [
    {
     "name": "stdout",
     "output_type": "stream",
     "text": [
      " Reconstruction Error: 0.291211\n"
     ]
    }
   ],
   "source": [
    "mse_loss = torch.nn.MSELoss()\n",
    "error = mse_loss(reconstructed_output, test_graph.x).item()\n",
    "print(f\" Reconstruction Error: {error:.6f}\")"
   ]
  },
  {
   "cell_type": "code",
   "execution_count": 20,
   "id": "b6d8f975",
   "metadata": {},
   "outputs": [
    {
     "name": "stdout",
     "output_type": "stream",
     "text": [
      "\n",
      "Model Evaluation on Validation Set:\n",
      "Validation Loss (MSE): 0.265408\n",
      "Validation Accuracy: 81.98%\n"
     ]
    }
   ],
   "source": [
    "import torch\n",
    "\n",
    "def evaluate_model(model, val_graphs):\n",
    "    \"\"\"\n",
    "    Evaluates the trained model on the validation set using:\n",
    "    - MSE Loss\n",
    "    - Reconstruction Accuracy (MAPE-based)\n",
    "    \"\"\"\n",
    "    device = torch.device(\"cuda\" if torch.cuda.is_available() else \"cpu\")\n",
    "    model.to(device)\n",
    "    model.eval()  # Set to evaluation mode\n",
    "\n",
    "    loss_fn = torch.nn.MSELoss()\n",
    "    total_val_loss = 0\n",
    "    total_val_acc = 0\n",
    "\n",
    "    with torch.no_grad():  # No gradients needed\n",
    "        for graph in val_graphs:\n",
    "            graph = graph.to(device)\n",
    "\n",
    "            # Forward pass\n",
    "            reconstructed = model(graph.x, graph.edge_index)\n",
    "\n",
    "            # Compute loss\n",
    "            loss = loss_fn(reconstructed, graph.x)\n",
    "            total_val_loss += loss.item()\n",
    "\n",
    "            # Compute accuracy\n",
    "            accuracy = compute_accuracy(graph.x, reconstructed)\n",
    "            total_val_acc += accuracy\n",
    "\n",
    "    # Compute averages\n",
    "    avg_val_loss = total_val_loss / len(val_graphs)\n",
    "    avg_val_acc = total_val_acc / len(val_graphs)\n",
    "\n",
    "    print(f\"\\nModel Evaluation on Validation Set:\")\n",
    "    print(f\"Validation Loss (MSE): {avg_val_loss:.6f}\")\n",
    "    print(f\"Validation Accuracy: {avg_val_acc:.2f}%\")\n",
    "\n",
    "    return avg_val_loss, avg_val_acc\n",
    "\n",
    "val_loss, val_accuracy = evaluate_model(trained_model, val_set)\n"
   ]
  },
  {
   "cell_type": "code",
   "execution_count": 21,
   "id": "31423e71",
   "metadata": {},
   "outputs": [
    {
     "name": "stdout",
     "output_type": "stream",
     "text": [
      "Extracted 552660 latent vectors with 16 dimensions\n"
     ]
    }
   ],
   "source": [
    "import torch\n",
    "import numpy as np\n",
    "\n",
    "def extract_latent_vectors(model, graphs):\n",
    "    \"\"\"\n",
    "    Extracts latent vectors from the validation set using the encoder.\n",
    "    \"\"\"\n",
    "    device = torch.device(\"cuda\" if torch.cuda.is_available() else \"cpu\")\n",
    "    model.to(device)\n",
    "    model.eval()\n",
    "\n",
    "    latent_vectors = []\n",
    "    \n",
    "    with torch.no_grad():\n",
    "        for graph in graphs:\n",
    "            graph = graph.to(device)\n",
    "            latent_vector = model.encoder(graph.x, graph.edge_index)  # Get encoded representation\n",
    "            latent_vectors.append(latent_vector.cpu().numpy())\n",
    "\n",
    "    # Flatten and concatenate all latent vectors\n",
    "    latent_vectors = np.vstack(latent_vectors)\n",
    "    return latent_vectors\n",
    "\n",
    "# 🚀 Extract latent vectors\n",
    "latent_vectors = extract_latent_vectors(trained_model, val_set)\n",
    "print(f\"Extracted {latent_vectors.shape[0]} latent vectors with {latent_vectors.shape[1]} dimensions\")"
   ]
  },
  {
   "cell_type": "code",
   "execution_count": null,
   "id": "e209f5fb",
   "metadata": {},
   "outputs": [],
   "source": []
  },
  {
   "cell_type": "code",
   "execution_count": 23,
   "id": "c1ec430a",
   "metadata": {},
   "outputs": [
    {
     "data": {
      "image/png": "[encoded data removed]",
      "text/plain": [
       "<Figure size 800x600 with 1 Axes>"
      ]
     },
     "metadata": {},
     "output_type": "display_data"
    }
   ],
   "source": [
    "from sklearn.manifold import TSNE\n",
    "\n",
    "tsne = TSNE(n_components=2, perplexity=30, random_state=42)\n",
    "reduced_vectors_tsne = tsne.fit_transform(latent_vectors)\n",
    "\n",
    "# Visualize\n",
    "plt.figure(figsize=(8, 6))\n",
    "plt.scatter(reduced_vectors_tsne[:, 0], reduced_vectors_tsne[:, 1], alpha=0.7, edgecolors=\"k\")\n",
    "plt.xlabel(\"t-SNE Component 1\")\n",
    "plt.ylabel(\"t-SNE Component 2\")\n",
    "plt.title(\"Latent Space Visualization (t-SNE)\")\n",
    "plt.show()"
   ]
  }
 ],
 "metadata": {
  "kernelspec": {
   "display_name": "Python 3 (ipykernel)",
   "language": "python",
   "name": "python3"
  },
  "language_info": {
   "codemirror_mode": {
    "name": "ipython",
    "version": 3
   },
   "file_extension": ".py",
   "mimetype": "text/x-python",
   "name": "python",
   "nbconvert_exporter": "python",
   "pygments_lexer": "ipython3",
   "version": "3.11.8"
  }
 },
 "nbformat": 4,
 "nbformat_minor": 5
}

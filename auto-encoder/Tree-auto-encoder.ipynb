{
 "cells": [
  {
   "cell_type": "code",
   "execution_count": 8,
   "metadata": {},
   "outputs": [],
   "source": [
    "import ast\n",
    "import random"
   ]
  },
  {
   "cell_type": "code",
   "execution_count": 9,
   "metadata": {},
   "outputs": [],
   "source": [
    "class TreeNode:\n",
    "    def __init__(self, value, left=None, right=None):\n",
    "        self.value = value\n",
    "        self.left = left # Sous-arbre gauche\n",
    "        self.right = right # Sous-arbre droit"
   ]
  },
  {
   "cell_type": "markdown",
   "metadata": {},
   "source": [
    "## Utilisation de la bibliothèque `ast` de Python\n",
    "\n",
    "La bibliothèque `ast` permet de décomposer une expression en un arbre de syntaxe abstraite (AST) et de la transformer en un format d'arbre personnalisé.\n",
    "\n",
    "### Étapes pour convertir une expression en un arbre :\n",
    "\n",
    "1. **Analyser l'expression**  \n",
    "   Utiliser la bibliothèque `ast` pour parser l'expression en une structure arborescente.\n",
    "\n",
    "2. **Transformer l'arbre AST**  \n",
    "   Convertir cet arbre en un arbre avec des nœuds (`TreeNode`) comme dans ton modèle.\n",
    "\n",
    "3. **Afficher l'arbre**  \n",
    "   Utiliser la fonction `print_tree` que tu as déjà pour visualiser l'arbre."
   ]
  },
  {
   "cell_type": "code",
   "execution_count": 10,
   "metadata": {},
   "outputs": [],
   "source": [
    "# Fonction pour convertir un noeud AST en TreeNode\n",
    "def ast_to_tree(node):\n",
    "    if isinstance(node, ast.BinOp):\n",
    "        op = {\n",
    "            ast.Add: '+',\n",
    "            ast.Sub: '-',\n",
    "            ast.Mult: '*',\n",
    "            ast.Div: '/'\n",
    "        }[type(node.op)]\n",
    "        return TreeNode(op, ast_to_tree(node.left), ast_to_tree(node.right))\n",
    "    elif isinstance(node, ast.Num):\n",
    "        return TreeNode(node.n)\n",
    "    elif isinstance(node, ast.Name):\n",
    "        return TreeNode(node.id)"
   ]
  },
  {
   "cell_type": "code",
   "execution_count": 11,
   "metadata": {},
   "outputs": [],
   "source": [
    "def expression_to_tree(expr):\n",
    "    # Analyser l'expression avec ast\n",
    "    parsed_expr = ast.parse(expr, mode='eval')\n",
    "    return ast_to_tree(parsed_expr.body)"
   ]
  },
  {
   "cell_type": "code",
   "execution_count": 12,
   "metadata": {},
   "outputs": [
    {
     "name": "stdout",
     "output_type": "stream",
     "text": [
      "        -> x\n",
      "    -> /\n",
      "        -> 3\n",
      "-> -\n",
      "            -> 2\n",
      "        -> +\n",
      "            -> x\n",
      "    -> *\n",
      "        -> x\n"
     ]
    }
   ],
   "source": [
    "def print_tree(node, level=0, indent=\"    \"):\n",
    "    # Affichage récursif de l'arbre, on affiche d'abord le sous-arbre droit\n",
    "    if node is not None:\n",
    "        print_tree(node.right, level + 1, indent)\n",
    "        print(indent * level + '->', node.value)\n",
    "        print_tree(node.left, level + 1, indent)\n",
    "\n",
    "\n",
    "expression = \"x * (x + 2) - 3 / x\"\n",
    "tree = expression_to_tree(expression)\n",
    "print_tree(tree)"
   ]
  },
  {
   "cell_type": "code",
   "execution_count": 13,
   "metadata": {},
   "outputs": [
    {
     "name": "stdout",
     "output_type": "stream",
     "text": [
      "Expression reconstruite : ((x * (x + 2)) - (3 / x))\n"
     ]
    }
   ],
   "source": [
    "# Ordre infix !!\n",
    "def tree_to_expression(node):\n",
    "    # Si c'est une feuille (variable ou constante), on la renvoie telle quelle\n",
    "    if node.left is None and node.right is None:\n",
    "        return str(node.value)\n",
    "    \n",
    "    # Si c'est un opérateur binaire, on traverse les sous-arbres gauche et droit\n",
    "    left_expr = tree_to_expression(node.left)\n",
    "    right_expr = tree_to_expression(node.right)\n",
    "    \n",
    "    # Ajouter des parenthèses pour s'assurer que les opérations respectent la hiérarchie\n",
    "    return f'({left_expr} {node.value} {right_expr})'\n",
    "\n",
    "expression = \"x * (x + 2) - 3 / x\"\n",
    "tree = expression_to_tree(expression)\n",
    "reconstructed_expr = tree_to_expression(tree)\n",
    "\n",
    "print(\"Expression reconstruite :\", reconstructed_expr)"
   ]
  }
 ],
 "metadata": {
  "kernelspec": {
   "display_name": "Python 3",
   "language": "python",
   "name": "python3"
  },
  "language_info": {
   "codemirror_mode": {
    "name": "ipython",
    "version": 3
   },
   "file_extension": ".py",
   "mimetype": "text/x-python",
   "name": "python",
   "nbconvert_exporter": "python",
   "pygments_lexer": "ipython3",
   "version": "3.11.8"
  }
 },
 "nbformat": 4,
 "nbformat_minor": 2
}
